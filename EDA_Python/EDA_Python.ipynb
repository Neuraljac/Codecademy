{
 "cells": [
  {
   "cell_type": "markdown",
   "id": "9bef1352",
   "metadata": {},
   "source": [
    "# Exploratory Data Analysis in Python\n",
    "This notebook contains my notes on exploratory data analysis.\n",
    "\n"
   ]
  },
  {
   "cell_type": "markdown",
   "id": "7832df83",
   "metadata": {},
   "source": [
    "### EDA: Diagnosing Diabetes"
   ]
  },
  {
   "cell_type": "code",
   "execution_count": null,
   "id": "d291babe",
   "metadata": {},
   "outputs": [],
   "source": [
    "import codecademylib3\n",
    "import pandas as pd\n",
    "import numpy as np\n",
    "\n",
    "# code goes here\n",
    "diabetes_data = pd.read_csv('diabetes.csv')\n",
    "print(diabetes_data.head())\n",
    "\n",
    "# number of features\n",
    "print(len(diabetes_data.columns))\n",
    "\n",
    "# number of observations\n",
    "print(len(diabetes_data))\n",
    "\n",
    "# missing values?\n",
    "print(diabetes_data.isnull().sum())\n",
    "\n",
    "# info might tell us more...\n",
    "print(diabetes_data.info())\n",
    "\n",
    "# make sure there really aren't any null values...\n",
    "print(diabetes_data.describe()) \n",
    "# we have '0's where there shouldn't be any.\n",
    "\n",
    "# replace '0's with NaNs...\n",
    "diabetes_data[['Glucose', 'BloodPressure', 'SkinThickness', 'Insulin', 'BMI']] = diabetes_data[['Glucose', 'BloodPressure', 'SkinThickness', 'Insulin', 'BMI']].replace(0, np.nan)\n",
    "\n",
    "# check for nulls again...\n",
    "print(diabetes_data.isnull().sum())\n",
    "print(diabetes_data.info())\n",
    "\n",
    "# let's look at the rows with missing data:\n",
    "print(diabetes_data[diabetes_data.isnull().any(axis=1)])\n",
    "\n",
    "# look at data types of each column\n",
    "print(diabetes_data.dtypes)\n",
    "\n",
    "# why is outcome an object?\n",
    "print(diabetes_data.Outcome.unique())\n",
    "\n",
    "# let's fix the typo...\n",
    "diabetes_data[['Outcome']] = diabetes_data[['Outcome']].replace('O', '0')\n",
    "\n",
    "# check Outcome again...\n",
    "print(diabetes_data.Outcome.unique())\n",
    "\n",
    "# looks better..."
   ]
  },
  {
   "cell_type": "markdown",
   "id": "979d6b55",
   "metadata": {},
   "source": [
    "### Exploring Student Data\n"
   ]
  },
  {
   "cell_type": "code",
   "execution_count": null,
   "id": "221cce67",
   "metadata": {},
   "outputs": [],
   "source": [
    "# Load libraries\n",
    "import pandas as pd\n",
    "import numpy as np\n",
    "import codecademylib3\n",
    "import matplotlib.pyplot as plt\n",
    "import seaborn as sns\n",
    "\n",
    "# Import data\n",
    "students = pd.read_csv('students.csv')\n",
    "\n",
    "# Print first few rows of data\n",
    "print(students.head())\n",
    "\n",
    "# Print summary statistics for all columns\n",
    "print(students.describe(include='all'))\n",
    "# Calculate mean\n",
    "print(students.math_grade.mean())\n",
    "\n",
    "# Calculate median\n",
    "print(students.math_grade.median())\n",
    "\n",
    "# Calculate mode\n",
    "print(students.math_grade.mode()[0])\n",
    "\n",
    "# Calculate range\n",
    "print(students.math_grade.max() - students.math_grade.min())\n",
    "\n",
    "# Calculate standard deviation\n",
    "print(students.math_grade.std())\n",
    "\n",
    "# Calculate MAD\n",
    "print(students.math_grade.mad())\n",
    "\n",
    "# Create a histogram of math grades\n",
    "sns.histplot(x = 'math_grade', data = students)\n",
    "plt.show()\n",
    "plt.clf()\n",
    "\n",
    "# Create a box plot of math grades\n",
    "sns.boxplot(x = 'math_grade', data = students)\n",
    "plt.show()\n",
    "plt.clf()\n",
    "\n",
    "# Calculate number of students with mothers in each job category\n",
    "print(students.Mjob.value_counts())\n",
    "\n",
    "# Calculate proportion of students with mothers in each job category\n",
    "print(students.Mjob.value_counts(normalize=True))\n",
    "\n",
    "# Create bar chart of Mjob\n",
    "sns.countplot(x='Mjob', data=students)\n",
    "plt.show()\n",
    "plt.clf()\n",
    "\n",
    "# Create pie chart of Mjob\n",
    "students.Mjob.value_counts().plot.pie()\n",
    "plt.show()"
   ]
  },
  {
   "cell_type": "markdown",
   "id": "07e26f22",
   "metadata": {},
   "source": [
    "### Review"
   ]
  },
  {
   "cell_type": "code",
   "execution_count": null,
   "id": "4f2c0bfa",
   "metadata": {},
   "outputs": [],
   "source": [
    "import codecademylib3\n",
    "import pandas as pd\n",
    "\n",
    "user_visits = pd.read_csv('page_visits.csv')\n",
    "\n",
    "print(user_visits.head())\n",
    "\n",
    "click_source = user_visits.groupby('utm_source').id.count().reset_index()\n",
    "\n",
    "print(click_source)\n",
    "\n",
    "click_source_by_month = user_visits.groupby(['utm_source', 'month']).id.count().reset_index()\n",
    "\n",
    "click_source_by_month_pivot = click_source_by_month.pivot(\n",
    "  columns = 'month',\n",
    "  index = 'utm_source',\n",
    "  values = 'id').reset_index()\n",
    "\n",
    "print(click_source_by_month_pivot)"
   ]
  },
  {
   "cell_type": "markdown",
   "id": "08b5ff89",
   "metadata": {},
   "source": [
    "### A/B Testing for ShoeFly.com"
   ]
  },
  {
   "cell_type": "code",
   "execution_count": null,
   "id": "31bdea32",
   "metadata": {},
   "outputs": [],
   "source": [
    "import codecademylib3\n",
    "import pandas as pd\n",
    "\n",
    "ad_clicks = pd.read_csv('ad_clicks.csv')\n",
    "\n",
    "print(ad_clicks.head())\n",
    "\n",
    "print(ad_clicks.groupby('utm_source').user_id.count().reset_index())\n",
    "\n",
    "ad_clicks['is_click'] = ~ad_clicks.ad_click_timestamp.isnull()\n",
    "print(ad_clicks.head())\n",
    "\n",
    "clicks_by_source = ad_clicks.groupby(['utm_source', 'is_click']).user_id.count().reset_index()\n",
    "print(clicks_by_source)\n",
    "\n",
    "clicks_pivot = clicks_by_source.pivot(index='utm_source',\n",
    "  columns='is_click',\n",
    "  values='user_id').reset_index()\n",
    "print(clicks_pivot)\n",
    "\n",
    "clicks_pivot['percent_clicked'] = clicks_pivot[True] / (clicks_pivot[True] + clicks_pivot[False])\n",
    "print(clicks_pivot)\n",
    "\n",
    "clicks_by_group = ad_clicks.groupby(['experimental_group']).user_id.count().reset_index()\n",
    "print(clicks_by_group)\n",
    "\n",
    "clicks_by_group_click = ad_clicks.groupby(['experimental_group', 'is_click']).user_id.count().reset_index()\n",
    "print(clicks_by_group_click)\n",
    "\n",
    "clicks_pivot_2 = clicks_by_group_click.pivot(index='is_click',\n",
    "  columns='experimental_group',\n",
    "  values='user_id').reset_index()\n",
    "print(clicks_pivot_2)\n",
    "\n",
    "a_clicks = ad_clicks[ad_clicks.experimental_group == 'A']\n",
    "print(a_clicks)\n",
    "b_clicks = ad_clicks[ad_clicks.experimental_group == 'B']\n",
    "print(b_clicks)\n",
    "\n",
    "clicks_by_a_clicks = a_clicks.groupby(['is_click', 'day']).user_id.count().reset_index()\n",
    "print(clicks_by_a_clicks)\n",
    "\n",
    "clicks_pivot_a = clicks_by_a_clicks.pivot(index='day',\n",
    "  columns='is_click',\n",
    "  values='user_id').reset_index()\n",
    "print(clicks_pivot_a)\n",
    "\n",
    "clicks_by_b_clicks = b_clicks.groupby(['is_click', 'day']).user_id.count().reset_index()\n",
    "print(clicks_by_b_clicks)\n",
    "\n",
    "clicks_pivot_b = clicks_by_b_clicks.pivot(index='day',\n",
    "  columns='is_click',\n",
    "  values='user_id').reset_index()\n",
    "print(clicks_pivot_b)\n",
    "\n",
    "percent_clicked_a = (len(clicks_pivot_a)) / len(ad_clicks)\n",
    "print(percent_clicked_a)\n",
    "\n",
    "percent_clicked_b = (len(clicks_pivot_b)) / len(ad_clicks)\n",
    "print(percent_clicked_b)"
   ]
  },
  {
   "cell_type": "markdown",
   "id": "7791d02a",
   "metadata": {},
   "source": []
  },
  {
   "cell_type": "markdown",
   "id": "e0b6d145",
   "metadata": {},
   "source": [
    "## Inspect, Clean, and Validate a Dataset"
   ]
  },
  {
   "cell_type": "markdown",
   "id": "238e42cb",
   "metadata": {},
   "source": [
    "## Summarizing a Single Feature"
   ]
  },
  {
   "cell_type": "markdown",
   "id": "3d240dcc",
   "metadata": {},
   "source": [
    "## Aggregates in Pandas"
   ]
  },
  {
   "cell_type": "markdown",
   "id": "41944c97",
   "metadata": {},
   "source": [
    "## Summarize the Relationship Between Two Features"
   ]
  },
  {
   "cell_type": "markdown",
   "id": "7c4a16a6",
   "metadata": {},
   "source": [
    "## Advanced Data Visualization"
   ]
  },
  {
   "cell_type": "markdown",
   "id": "410a0170",
   "metadata": {},
   "source": [
    "## EDA for Machine Learning Models"
   ]
  }
 ],
 "metadata": {
  "kernelspec": {
   "display_name": "Python 3 (ipykernel)",
   "language": "python",
   "name": "python3"
  },
  "language_info": {
   "codemirror_mode": {
    "name": "ipython",
    "version": 3
   },
   "file_extension": ".py",
   "mimetype": "text/x-python",
   "name": "python",
   "nbconvert_exporter": "python",
   "pygments_lexer": "ipython3",
   "version": "3.9.13"
  }
 },
 "nbformat": 4,
 "nbformat_minor": 5
}
